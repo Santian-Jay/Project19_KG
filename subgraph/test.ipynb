{
 "cells": [
  {
   "cell_type": "code",
   "execution_count": 1,
   "metadata": {},
   "outputs": [
    {
     "name": "stderr",
     "output_type": "stream",
     "text": [
      "c:\\Users\\56984\\AppData\\Local\\Programs\\Python\\Python39\\lib\\site-packages\\tqdm\\auto.py:22: TqdmWarning: IProgress not found. Please update jupyter and ipywidgets. See https://ipywidgets.readthedocs.io/en/stable/user_install.html\n",
      "  from .autonotebook import tqdm as notebook_tqdm\n"
     ]
    }
   ],
   "source": [
    "from subgraph import *\n",
    "import networkx as nx"
   ]
  },
  {
   "cell_type": "code",
   "execution_count": 2,
   "metadata": {},
   "outputs": [
    {
     "name": "stdout",
     "output_type": "stream",
     "text": [
      "The toolkit is importing datasets.\n",
      "\n",
      "The total of relations is 37\n",
      "The total of entities is 123182\n"
     ]
    }
   ],
   "source": [
    "hop = 3\n",
    "\n",
    "task_dir = './dataset/YAGO3-10'\n",
    "loader = DataLoader(task_dir, 1)\n",
    "\n",
    "n_ent, n_rel = loader.graph_size()\n",
    "\n",
    "train_data = loader.load_data('train')\n",
    "valid_data = loader.load_data('valid')\n",
    "test_data = loader.load_data('test')\n",
    "adj_list = []\n",
    "triplets = []\n",
    "for i in range(len(train_data[0])):\n",
    "    triplets.append([train_data[0][i], train_data[1][i], train_data[2][i]])\n",
    "triplets = np.array(triplets)\n",
    "for i in range(n_rel):\n",
    "    idx = np.argwhere(triplets[:, 2] == i)\n",
    "    adj_list.append(csc_matrix((np.ones(len(idx), dtype=np.uint8),\n",
    "                                (triplets[:, 0][idx].squeeze(1), triplets[:, 1][idx].squeeze(1))),\n",
    "                                shape=(n_ent, n_ent)))\n",
    "\n",
    "n1 = 1\n",
    "n2 = 4\n",
    "\n",
    "nodes, n_labels, subgraph_size, enc_ratio, num_pruned_nodes = subgraph_extraction_labeling((n1, n2), adj_list, hop, True, None)\n",
    "a = 0"
   ]
  },
  {
   "cell_type": "code",
   "execution_count": 3,
   "metadata": {},
   "outputs": [],
   "source": [
    "adj_weight_list = []\n",
    "for i in range(n_rel):\n",
    "    idx = np.argwhere(triplets[:, 2] == i)\n",
    "    adj_weight_list.append(csc_matrix((np.full(len(idx),fill_value=i, dtype=np.uint8),\n",
    "                                (triplets[:, 0][idx].squeeze(1), triplets[:, 1][idx].squeeze(1))),\n",
    "                                shape=(n_ent, n_ent)))"
   ]
  },
  {
   "cell_type": "code",
   "execution_count": 7,
   "metadata": {},
   "outputs": [],
   "source": [
    "def incidence_matrix_weight1(adj_list):\n",
    "    '''\n",
    "    adj_list: List of sparse adjacency matrices\n",
    "    '''\n",
    "\n",
    "    rows, cols, dats = [], [], []\n",
    "    dim = adj_list[0].shape\n",
    "    for adj in adj_list:\n",
    "        adjcoo = adj.tocoo()\n",
    "        rows += adjcoo.row.tolist()\n",
    "        cols += adjcoo.col.tolist()\n",
    "        dats += adjcoo.data.tolist()\n",
    "    row = np.array(rows)\n",
    "    col = np.array(cols)\n",
    "    data = np.array(dats)\n",
    "    temp_m =  ssp.csc_matrix((data, (row, col)), shape=dim)\n",
    "    adjcoo = temp_m.tocoo()\n",
    "    rows = adjcoo.row.tolist()\n",
    "    cols = adjcoo.col.tolist()\n",
    "    row = np.array(rows)\n",
    "    col = np.array(cols)\n",
    "    data = np.ones(row.shape)\n",
    "    return ssp.csc_matrix((data, (row, col)), shape=dim)"
   ]
  },
  {
   "cell_type": "code",
   "execution_count": 8,
   "metadata": {},
   "outputs": [
    {
     "data": {
      "text/plain": [
       "(66004, 66004)"
      ]
     },
     "execution_count": 8,
     "metadata": {},
     "output_type": "execute_result"
    }
   ],
   "source": [
    "\n",
    "adj = incidence_matrix_weight1(adj_list)\n",
    "adj = adj[nodes, :][:, nodes]\n",
    "adj_weight_list = [m[nodes, :][:, nodes] for m in adj_weight_list]\n",
    "adj.shape"
   ]
  },
  {
   "cell_type": "code",
   "execution_count": 9,
   "metadata": {},
   "outputs": [],
   "source": [
    "test_graph = nx.from_scipy_sparse_array(adj)"
   ]
  },
  {
   "cell_type": "code",
   "execution_count": 34,
   "metadata": {},
   "outputs": [],
   "source": [
    "def get_relation_id(adj_list, node1, node2):\n",
    "    for i in range(len(adj_list)):\n",
    "        if adj_list[i][node1,node2] >= 1:\n",
    "            return i\n",
    "    return -1"
   ]
  },
  {
   "cell_type": "code",
   "execution_count": 35,
   "metadata": {},
   "outputs": [],
   "source": [
    "def get_muticenter(graph, adj_weight_list, centers, max_graph_num):\n",
    "    centers_graphs = []\n",
    "    routes = [[]]\n",
    "    for i in range(len(centers)):\n",
    "        for j in range(i + 1, len(centers)):\n",
    "            new_routes = []\n",
    "            for route in routes:\n",
    "                if nx.has_path(graph, centers[i], centers[j]):\n",
    "                    for k, path in enumerate(nx.shortest_simple_paths(graph, centers[i], centers[j])):\n",
    "                        if k >= max_graph_num:\n",
    "                            break\n",
    "                        new_routes.append(route + path)\n",
    "\n",
    "                if nx.has_path(graph, centers[j], centers[i]):\n",
    "                    for k, path in enumerate(nx.shortest_simple_paths(graph, centers[j], centers[i])):\n",
    "                        if k >= max_graph_num:\n",
    "                            break\n",
    "                        new_routes.append(route + path)\n",
    "            routes = new_routes\n",
    "    for i, route in enumerate(routes):\n",
    "        if i >= max_graph_num:\n",
    "            break\n",
    "        sub_graph = nx.MultiDiGraph()\n",
    "        for i in range(len(route)-1):\n",
    "            sub_graph.add_edge(route[i], route[i+1], weight=get_relation_id(adj_weight_list, route[i], route[i+1]))\n",
    "        centers_graphs.append(sub_graph)\n",
    "    return centers_graphs"
   ]
  },
  {
   "cell_type": "code",
   "execution_count": 88,
   "metadata": {},
   "outputs": [],
   "source": [
    "centers_graphs = get_muticenter(test_graph, adj_weight_list, [0, 1], max_graph_num=2)"
   ]
  },
  {
   "cell_type": "code",
   "execution_count": 95,
   "metadata": {},
   "outputs": [],
   "source": [
    "def breadFirstGraphExtract(graph, sub_graph, adj_weight_list, relation, max_depth, max_entity_num):\n",
    "    if max_entity_num <= 0:\n",
    "        return sub_graph\n",
    "    que = []  # entity, depth\n",
    "    for node in sub_graph.nodes:\n",
    "        que.append((node, 1))\n",
    "    while que:\n",
    "        temp_tuple = que.pop(0)\n",
    "        temp_entity, temp_depth = temp_tuple[0], temp_tuple[1]\n",
    "        if nx.number_of_nodes(sub_graph) >= max_entity_num:\n",
    "            return sub_graph\n",
    "        if temp_depth >= max_depth:\n",
    "            continue\n",
    "        for n in graph.adj[temp_entity].keys():\n",
    "            rel_ = get_relation_id(adj_weight_list, temp_entity, n)\n",
    "            if rel_ in relation:\n",
    "                sub_graph.add_edge(temp_entity, n, weight=rel_)\n",
    "                que.append((n, temp_depth+1))\n",
    "            if nx.number_of_nodes(sub_graph) >= max_entity_num:\n",
    "                return sub_graph\n",
    "    return sub_graph\n",
    "def deepFirstGraphExtract(graph, sub_graph, adj_weight_list, relation, max_depth, max_entity_num):\n",
    "    if max_entity_num <= 0:\n",
    "        return sub_graph\n",
    "    stack = []  # entity, depth\n",
    "    for node in sub_graph.nodes:\n",
    "        stack.append((node, 1))\n",
    "    while stack:\n",
    "        temp_tuple = stack.pop()\n",
    "        temp_entity, temp_depth = temp_tuple[0], temp_tuple[1]\n",
    "        if nx.number_of_nodes(sub_graph) >= max_entity_num:\n",
    "            return sub_graph\n",
    "        if temp_depth >= max_depth:\n",
    "            continue\n",
    "        for n in graph.adj[temp_entity].keys():\n",
    "            rel_ = get_relation_id(adj_weight_list, temp_entity, n)\n",
    "            if rel_ in relation:\n",
    "                sub_graph.add_edge(temp_entity, n, weight=rel_)\n",
    "                stack.append((n, temp_depth+1))\n",
    "            if nx.number_of_nodes(sub_graph) >= max_entity_num:\n",
    "                return sub_graph\n",
    "    return sub_graph"
   ]
  },
  {
   "cell_type": "code",
   "execution_count": 96,
   "metadata": {},
   "outputs": [],
   "source": [
    "sub_graph = deepFirstGraphExtract(test_graph, centers_graphs[0], adj_weight_list,list(range(30)), 3, 10)"
   ]
  },
  {
   "cell_type": "code",
   "execution_count": 97,
   "metadata": {},
   "outputs": [
    {
     "data": {
      "text/plain": [
       "10"
      ]
     },
     "execution_count": 97,
     "metadata": {},
     "output_type": "execute_result"
    }
   ],
   "source": [
    "nx.number_of_nodes(centers_graphs[0])"
   ]
  },
  {
   "cell_type": "code",
   "execution_count": 98,
   "metadata": {},
   "outputs": [
    {
     "data": {
      "text/plain": [
       "<matplotlib.collections.PathCollection at 0x258bb6a2730>"
      ]
     },
     "execution_count": 98,
     "metadata": {},
     "output_type": "execute_result"
    },
    {
     "data": {
      "image/png": "[encoded data removed]",
      "text/plain": [
       "<Figure size 432x288 with 1 Axes>"
      ]
     },
     "metadata": {},
     "output_type": "display_data"
    }
   ],
   "source": [
    "pos = nx.circular_layout(sub_graph)\n",
    "nx.draw_networkx_nodes(sub_graph, pos)"
   ]
  },
  {
   "cell_type": "code",
   "execution_count": 106,
   "metadata": {},
   "outputs": [
    {
     "data": {
      "text/plain": [
       "{}"
      ]
     },
     "execution_count": 106,
     "metadata": {},
     "output_type": "execute_result"
    }
   ],
   "source": [
    "G = nx.Graph()\n",
    "G.add_edge(1, 2)\n",
    "nx.get_node_attributes(G, 'name')\n"
   ]
  },
  {
   "cell_type": "code",
   "execution_count": null,
   "metadata": {},
   "outputs": [],
   "source": []
  },
  {
   "cell_type": "code",
   "execution_count": null,
   "metadata": {},
   "outputs": [],
   "source": [
    "def get_muticenter(graph, centers, max_graph_num):\n",
    "    centers_graphs = []\n",
    "    routes = [[]]\n",
    "    for i in range(len(centers)):\n",
    "        for j in range(i + 1, len(centers)):\n",
    "            new_routes = []\n",
    "            for route in routes:\n",
    "                if nx.has_path(graph, centers[i], centers[j]):\n",
    "                    for path in nx.all_simple_edge_paths(graph, centers[i], centers[j]):\n",
    "                        new_routes.append(route + path)\n",
    "                if nx.has_path(graph, centers[j], centers[i]):\n",
    "                    for path in nx.all_simple_edge_paths(graph, centers[j], centers[i]):\n",
    "                        new_routes.append(route + path)\n",
    "            routes = new_routes\n",
    "    for i, route in enumerate(routes):\n",
    "        if i >= max_graph_num:\n",
    "            break\n",
    "        sub_graph = nx.MultiDiGraph()\n",
    "        for edge in route:\n",
    "            sub_graph.add_edge(edge[0], edge[1], edge[2], weight=graph.edges[tuple(edge)]['weight'])\n",
    "        centers_graphs.append(sub_graph)\n",
    "    return centers_graphs"
   ]
  },
  {
   "cell_type": "code",
   "execution_count": 63,
   "metadata": {},
   "outputs": [
    {
     "name": "stdout",
     "output_type": "stream",
     "text": [
      "[1, 933, 56944, 4]\n",
      "[1, 1307, 56944, 4]\n",
      "[1, 2684, 56944, 4]\n",
      "[1, 7366, 56944, 4]\n"
     ]
    }
   ],
   "source": [
    "for i, path in enumerate(nx.shortest_simple_paths(test_graph, 1, 4)):\n",
    "    if i > 3:\n",
    "        break\n",
    "    print(path)"
   ]
  },
  {
   "cell_type": "code",
   "execution_count": 47,
   "metadata": {},
   "outputs": [
    {
     "ename": "KeyboardInterrupt",
     "evalue": "",
     "output_type": "error",
     "traceback": [
      "\u001b[1;31m---------------------------------------------------------------------------\u001b[0m",
      "\u001b[1;31mKeyboardInterrupt\u001b[0m                         Traceback (most recent call last)",
      "\u001b[1;32md:\\part_time\\22_08\\subgraph\\subgraph\\test.ipynb Cell 7\u001b[0m in \u001b[0;36m<cell line: 1>\u001b[1;34m()\u001b[0m\n\u001b[1;32m----> <a href='vscode-notebook-cell:/d%3A/part_time/22_08/subgraph/subgraph/test.ipynb#X21sZmlsZQ%3D%3D?line=0'>1</a>\u001b[0m test_muticenter \u001b[39m=\u001b[39m get_muticenter(test_graph, [\u001b[39m1\u001b[39;49m,\u001b[39m4\u001b[39;49m], \u001b[39m2\u001b[39;49m)\n",
      "\u001b[1;32md:\\part_time\\22_08\\subgraph\\subgraph\\test.ipynb Cell 7\u001b[0m in \u001b[0;36mget_muticenter\u001b[1;34m(graph, centers, max_graph_num)\u001b[0m\n\u001b[0;32m    <a href='vscode-notebook-cell:/d%3A/part_time/22_08/subgraph/subgraph/test.ipynb#X21sZmlsZQ%3D%3D?line=168'>169</a>\u001b[0m \u001b[39mfor\u001b[39;00m route \u001b[39min\u001b[39;00m routes:\n\u001b[0;32m    <a href='vscode-notebook-cell:/d%3A/part_time/22_08/subgraph/subgraph/test.ipynb#X21sZmlsZQ%3D%3D?line=169'>170</a>\u001b[0m     \u001b[39mif\u001b[39;00m nx\u001b[39m.\u001b[39mhas_path(graph, centers[i], centers[j]):\n\u001b[1;32m--> <a href='vscode-notebook-cell:/d%3A/part_time/22_08/subgraph/subgraph/test.ipynb#X21sZmlsZQ%3D%3D?line=170'>171</a>\u001b[0m         \u001b[39mfor\u001b[39;00m path \u001b[39min\u001b[39;00m nx\u001b[39m.\u001b[39mall_simple_edge_paths(graph, centers[i], centers[j]):\n\u001b[0;32m    <a href='vscode-notebook-cell:/d%3A/part_time/22_08/subgraph/subgraph/test.ipynb#X21sZmlsZQ%3D%3D?line=171'>172</a>\u001b[0m             new_routes\u001b[39m.\u001b[39mappend(route \u001b[39m+\u001b[39m path)\n\u001b[0;32m    <a href='vscode-notebook-cell:/d%3A/part_time/22_08/subgraph/subgraph/test.ipynb#X21sZmlsZQ%3D%3D?line=172'>173</a>\u001b[0m     \u001b[39mif\u001b[39;00m nx\u001b[39m.\u001b[39mhas_path(graph, centers[j], centers[i]):\n",
      "File \u001b[1;32mc:\\Users\\56984\\AppData\\Local\\Programs\\Python\\Python39\\lib\\site-packages\\networkx\\algorithms\\simple_paths.py:393\u001b[0m, in \u001b[0;36mall_simple_edge_paths\u001b[1;34m(G, source, target, cutoff)\u001b[0m\n\u001b[0;32m    391\u001b[0m         \u001b[39myield\u001b[39;00m simp_path\n\u001b[0;32m    392\u001b[0m \u001b[39melse\u001b[39;00m:\n\u001b[1;32m--> 393\u001b[0m     \u001b[39mfor\u001b[39;00m simp_path \u001b[39min\u001b[39;00m _all_simple_paths_graph(G, source, targets, cutoff):\n\u001b[0;32m    394\u001b[0m         \u001b[39myield\u001b[39;00m \u001b[39mlist\u001b[39m(\u001b[39mzip\u001b[39m(simp_path[:\u001b[39m-\u001b[39m\u001b[39m1\u001b[39m], simp_path[\u001b[39m1\u001b[39m:]))\n",
      "File \u001b[1;32mc:\\Users\\56984\\AppData\\Local\\Programs\\Python\\Python39\\lib\\site-packages\\networkx\\algorithms\\simple_paths.py:264\u001b[0m, in \u001b[0;36m_all_simple_paths_graph\u001b[1;34m(G, source, targets, cutoff)\u001b[0m\n\u001b[0;32m    262\u001b[0m     \u001b[39myield\u001b[39;00m \u001b[39mlist\u001b[39m(visited) \u001b[39m+\u001b[39m [child]\n\u001b[0;32m    263\u001b[0m visited[child] \u001b[39m=\u001b[39m \u001b[39mNone\u001b[39;00m\n\u001b[1;32m--> 264\u001b[0m \u001b[39mif\u001b[39;00m targets \u001b[39m-\u001b[39m \u001b[39mset\u001b[39m(visited\u001b[39m.\u001b[39mkeys()):  \u001b[39m# expand stack until find all targets\u001b[39;00m\n\u001b[0;32m    265\u001b[0m     stack\u001b[39m.\u001b[39mappend(\u001b[39miter\u001b[39m(G[child]))\n\u001b[0;32m    266\u001b[0m \u001b[39melse\u001b[39;00m:\n",
      "\u001b[1;31mKeyboardInterrupt\u001b[0m: "
     ]
    }
   ],
   "source": [
    "test_muticenter = get_muticenter(test_graph, [1,4], 2)"
   ]
  },
  {
   "cell_type": "code",
   "execution_count": 7,
   "metadata": {},
   "outputs": [
    {
     "name": "stdout",
     "output_type": "stream",
     "text": [
      "66004\n",
      "0.6585290600969644\n",
      "221\n"
     ]
    }
   ],
   "source": [
    "print(subgraph_size)\n",
    "print(enc_ratio)\n",
    "print(num_pruned_nodes)"
   ]
  },
  {
   "cell_type": "code",
   "execution_count": 24,
   "metadata": {},
   "outputs": [],
   "source": [
    "import networkx as nx\n",
    "from matplotlib import pyplot as plt\n",
    "# In[52]:\n",
    "\n",
    "\n",
    "def deepFirstGraphExtract(graph, sub_graph, relation, max_depth, max_entity_num):\n",
    "    if max_entity_num <= 0:\n",
    "        return sub_graph\n",
    "    stack = []  # entity, depth\n",
    "    for node in sub_graph.nodes:\n",
    "        stack.append((node, 1))\n",
    "    while stack:\n",
    "        temp_tuple = stack.pop()\n",
    "        temp_entity, temp_depth = temp_tuple[0], temp_tuple[1]\n",
    "        if nx.number_of_nodes(sub_graph) >= max_entity_num:\n",
    "            return sub_graph\n",
    "        if temp_depth >= max_depth:\n",
    "            continue\n",
    "        print(temp_entity)\n",
    "        for n, nbrs in graph.adj[temp_entity].items():\n",
    "            for nbr, edict in nbrs.items():\n",
    "                if edict['weight'] == relation and n not in sub_graph.nodes:\n",
    "                    sub_graph.add_edge(temp_entity, n, weight=relation)\n",
    "                    stack.append((n, temp_depth + 1))\n",
    "    return sub_graph\n",
    "\n",
    "\n",
    "# In[53]:\n",
    "\n",
    "\n",
    "def breadFirstGraphExtract(graph, sub_graph, relation, max_depth, max_entity_num):\n",
    "    if max_entity_num <= 0:\n",
    "        return sub_graph\n",
    "    que = []  # entity, depth\n",
    "    for node in sub_graph.nodes:\n",
    "        que.append((node, 1))\n",
    "    while que:\n",
    "        temp_tuple = que.pop(0)\n",
    "        temp_entity, temp_depth = temp_tuple[0], temp_tuple[1]\n",
    "        if nx.number_of_nodes(sub_graph) >= max_entity_num:\n",
    "            return sub_graph\n",
    "        if temp_depth >= max_depth:\n",
    "            continue\n",
    "        for n, nbrs in graph.adj[temp_entity].items():\n",
    "            for nbr, edict in nbrs.items():\n",
    "                if edict['weight'] == relation and n not in sub_graph.nodes:\n",
    "                    sub_graph.add_edge(temp_entity, n, weight=relation)\n",
    "                    que.append((n, temp_depth + 1))\n",
    "    return sub_graph\n",
    "\n",
    "\n",
    "# Define function for reading txt file and skip first line, txt content split as tab\n",
    "def get_data(file, encoding='gbk'):\n",
    "    res = []\n",
    "    with open(file, 'r', encoding=encoding) as f:\n",
    "        next(f)\n",
    "        for line in f:\n",
    "            l = line.split()\n",
    "            l[0], l[1] = l[1], l[0]\n",
    "            tl = tuple(l)\n",
    "            res.append(tl)\n",
    "    return res\n",
    "\n",
    "\n",
    "# # path of txt files\n",
    "# entity = r'./dataset/entity2id.txt'\n",
    "# relate = r'./dataset/relation2id.txt'\n",
    "# train = r'./dataset/train2id.txt'\n",
    "#\n",
    "# # txt to Dataframe\n",
    "# pts = get_data(entity)\n",
    "# relates = get_data(relate)\n",
    "# weight = [w[2] for w in get_data(train)]\n",
    "\n",
    "\n",
    "\n",
    "\n",
    "\n",
    "# get the relationships\n",
    "def get_relation(file, encoding='gbk'):\n",
    "    res = []\n",
    "    with open(file, 'r', encoding=encoding) as f:\n",
    "        next(f)\n",
    "        for line in f:\n",
    "            d = line.split()\n",
    "            d[0] = replace_label(d[0])\n",
    "            d[1] = replace_label(d[1])\n",
    "            # d[2] = int(d[2])\n",
    "            dt = tuple(d)\n",
    "            res.append(dt)\n",
    "    return res\n",
    "\n",
    "\n",
    "# # Draw Graph\n",
    "# node = [n[1] for n in pts]\n",
    "# edge = get_relation(train)\n",
    "# # create graph\n",
    "# G = nx.MultiDiGraph()\n",
    "# # G = nx.DiGraph()\n",
    "# G.add_nodes_from(node)\n",
    "# G.add_weighted_edges_from(edge)\n",
    "#\n",
    "# # modify the labels\n",
    "# old_attrs = nx.get_edge_attributes(G, 'weight')\n",
    "# attrs = {}\n",
    "# for k, v in old_attrs.items():\n",
    "#     attrs[(k[0], k[1])] = v\n",
    "# # rs == relationship\n",
    "# for key, value in attrs.items():\n",
    "#     attrs[key] = {\"rs\": replace_relate(value)}\n",
    "\n",
    "\n",
    "# nx.set_edge_attributes(G, edge_labels)\n",
    "# labels = nx.get_edge_attributes(G, 'relation')\n",
    "# layout setting\n",
    "# pos = nx.circular_layout(G)\n",
    "# node\n",
    "# plt.figure(dpi=300,figsize=(24,8))\n",
    "# nx.draw_networkx_nodes(G, pos, node_size=400, node_color='#6495ED')\n",
    "# label_options = {\"ec\": \"k\", \"fc\": \"white\", \"alpha\": 0.5}\n",
    "# nx.draw_networkx_labels(G, pos, font_size=9, bbox=label_options)\n",
    "# # edge\n",
    "# nx.draw_networkx_edges(G, pos)\n",
    "# # nx.draw_networkx_edges(G, pos, width=weight)\n",
    "# # nx.draw_networkx_edges(G, pos, arrowstyle=\"->\", arrowsize=10)\n",
    "# print(attrs)\n",
    "# nx.draw_networkx_edge_labels(G, pos, edge_labels=attrs)\n",
    "# plt.axis('off')\n",
    "# plt.show()\n",
    "\n",
    "\n",
    "# In[28]:\n",
    "\n",
    "\n",
    "def draw_sub(sub):\n",
    "\n",
    "    def replace_relate(name):\n",
    "        return dict(relates)[name]\n",
    "\n",
    "    old_attrs = nx.get_edge_attributes(sub, 'weight')\n",
    "    attrs = {}\n",
    "    for k, v in old_attrs.items():\n",
    "        attrs[(k[0], k[1])] = v\n",
    "    # rs == relationship\n",
    "    for key, value in attrs.items():\n",
    "        attrs[key] = replace_relate(value)\n",
    "    pos = nx.circular_layout(sub)\n",
    "    # node\n",
    "    plt.figure(dpi=100, figsize=(12, 8))\n",
    "    nx.draw_networkx_nodes(sub, pos, node_size=400, node_color='#6495ED')\n",
    "    label_options = {\"ec\": \"k\", \"fc\": \"white\", \"alpha\": 0.5}\n",
    "    nx.draw_networkx_labels(sub, pos, font_size=9, bbox=label_options)\n",
    "    # edge\n",
    "    nx.draw_networkx_edges(sub, pos)\n",
    "    nx.draw_networkx_edge_labels(sub, pos, edge_labels=attrs)\n",
    "    plt.axis('off')\n",
    "    # plt.show()\n",
    "\n",
    "\n",
    "# In[22]:\n",
    "\n",
    "\n",
    "def get_muticenter(graph, centers, max_graph_num):\n",
    "    centers_graphs = []\n",
    "    routes = [[]]\n",
    "    for i in range(len(centers)):\n",
    "        for j in range(i + 1, len(centers)):\n",
    "            new_routes = []\n",
    "            for route in routes:\n",
    "                if nx.has_path(graph, centers[i], centers[j]):\n",
    "                    for path in nx.all_simple_edge_paths(graph, centers[i], centers[j]):\n",
    "                        new_routes.append(route + path)\n",
    "                if nx.has_path(graph, centers[j], centers[i]):\n",
    "                    for path in nx.all_simple_edge_paths(graph, centers[j], centers[i]):\n",
    "                        new_routes.append(route + path)\n",
    "            routes = new_routes\n",
    "    for i, route in enumerate(routes):\n",
    "        if i >= max_graph_num:\n",
    "            break\n",
    "        sub_graph = nx.MultiDiGraph()\n",
    "        for edge in route:\n",
    "            sub_graph.add_edge(edge[0], edge[1], edge[2], weight=graph.edges[tuple(edge)]['weight'])\n",
    "        centers_graphs.append(sub_graph)\n",
    "    return centers_graphs"
   ]
  },
  {
   "cell_type": "code",
   "execution_count": 26,
   "metadata": {},
   "outputs": [],
   "source": [
    "entity = r'./dataset/YAGO3-10/entity2id.txt'\n",
    "relate = r'./dataset/YAGO3-10/relation2id.txt'\n",
    "train = r'./dataset/YAGO3-10/train2id.txt'\n",
    "\n",
    "# txt to Dataframe\n",
    "pts = get_data(entity, encoding='utf-8')\n",
    "relates = get_data(relate, encoding='utf-8')\n",
    "weight = [w[2] for w in get_data(train, encoding='utf-8')]\n",
    "\n",
    "# define function for replace node label"
   ]
  },
  {
   "cell_type": "code",
   "execution_count": 29,
   "metadata": {},
   "outputs": [],
   "source": [
    "def replace_label(name):\n",
    "    return dict(pts)[name]\n",
    "\n",
    "def replace_relate(name):\n",
    "    return dict(relates)[name]\n",
    "nodes_set = set(nodes)\n",
    "node = np.array([pts[i][1] for i in range(len(pts))])[nodes].tolist()"
   ]
  },
  {
   "cell_type": "code",
   "execution_count": 36,
   "metadata": {},
   "outputs": [
    {
     "ename": "KeyboardInterrupt",
     "evalue": "",
     "output_type": "error",
     "traceback": [
      "\u001b[1;31m---------------------------------------------------------------------------\u001b[0m",
      "\u001b[1;31mKeyboardInterrupt\u001b[0m                         Traceback (most recent call last)",
      "\u001b[1;32md:\\part_time\\22_08\\subgraph\\subgraph\\test.ipynb Cell 8\u001b[0m in \u001b[0;36m<cell line: 1>\u001b[1;34m()\u001b[0m\n\u001b[1;32m----> <a href='vscode-notebook-cell:/d%3A/part_time/22_08/subgraph/subgraph/test.ipynb#X13sZmlsZQ%3D%3D?line=0'>1</a>\u001b[0m edge \u001b[39m=\u001b[39m get_relation(train)\n\u001b[0;32m      <a href='vscode-notebook-cell:/d%3A/part_time/22_08/subgraph/subgraph/test.ipynb#X13sZmlsZQ%3D%3D?line=1'>2</a>\u001b[0m edge \u001b[39m=\u001b[39m [ed \u001b[39mfor\u001b[39;00m ed \u001b[39min\u001b[39;00m edge \u001b[39mif\u001b[39;00m (ed[\u001b[39m0\u001b[39m] \u001b[39min\u001b[39;00m nodes_set \u001b[39mand\u001b[39;00m ed[\u001b[39m1\u001b[39m] \u001b[39min\u001b[39;00m nodes_set)]\n",
      "\u001b[1;32md:\\part_time\\22_08\\subgraph\\subgraph\\test.ipynb Cell 8\u001b[0m in \u001b[0;36mget_relation\u001b[1;34m(file, encoding)\u001b[0m\n\u001b[0;32m     <a href='vscode-notebook-cell:/d%3A/part_time/22_08/subgraph/subgraph/test.ipynb#X13sZmlsZQ%3D%3D?line=83'>84</a>\u001b[0m \u001b[39mfor\u001b[39;00m line \u001b[39min\u001b[39;00m f:\n\u001b[0;32m     <a href='vscode-notebook-cell:/d%3A/part_time/22_08/subgraph/subgraph/test.ipynb#X13sZmlsZQ%3D%3D?line=84'>85</a>\u001b[0m     d \u001b[39m=\u001b[39m line\u001b[39m.\u001b[39msplit()\n\u001b[1;32m---> <a href='vscode-notebook-cell:/d%3A/part_time/22_08/subgraph/subgraph/test.ipynb#X13sZmlsZQ%3D%3D?line=85'>86</a>\u001b[0m     d[\u001b[39m0\u001b[39m] \u001b[39m=\u001b[39m replace_label(d[\u001b[39m0\u001b[39;49m])\n\u001b[0;32m     <a href='vscode-notebook-cell:/d%3A/part_time/22_08/subgraph/subgraph/test.ipynb#X13sZmlsZQ%3D%3D?line=86'>87</a>\u001b[0m     d[\u001b[39m1\u001b[39m] \u001b[39m=\u001b[39m replace_label(d[\u001b[39m1\u001b[39m])\n\u001b[0;32m     <a href='vscode-notebook-cell:/d%3A/part_time/22_08/subgraph/subgraph/test.ipynb#X13sZmlsZQ%3D%3D?line=87'>88</a>\u001b[0m     \u001b[39m# d[2] = int(d[2])\u001b[39;00m\n",
      "\u001b[1;32md:\\part_time\\22_08\\subgraph\\subgraph\\test.ipynb Cell 8\u001b[0m in \u001b[0;36mreplace_label\u001b[1;34m(name)\u001b[0m\n\u001b[0;32m      <a href='vscode-notebook-cell:/d%3A/part_time/22_08/subgraph/subgraph/test.ipynb#X13sZmlsZQ%3D%3D?line=0'>1</a>\u001b[0m \u001b[39mdef\u001b[39;00m \u001b[39mreplace_label\u001b[39m(name):\n\u001b[1;32m----> <a href='vscode-notebook-cell:/d%3A/part_time/22_08/subgraph/subgraph/test.ipynb#X13sZmlsZQ%3D%3D?line=1'>2</a>\u001b[0m     \u001b[39mreturn\u001b[39;00m \u001b[39mdict\u001b[39;49m(pts)[name]\n",
      "\u001b[1;31mKeyboardInterrupt\u001b[0m: "
     ]
    }
   ],
   "source": [
    "edge = get_relation(train)\n",
    "edge = [ed for ed in edge if (ed[0] in nodes_set and ed[1] in nodes_set)]"
   ]
  },
  {
   "cell_type": "code",
   "execution_count": 16,
   "metadata": {},
   "outputs": [],
   "source": [
    "G = nx.MultiDiGraph()\n",
    "G.add_nodes_from(node)\n",
    "G.add_weighted_edges_from(edge)\n",
    "\n",
    "# modify the labels\n",
    "old_attrs = nx.get_edge_attributes(G, 'weight')\n",
    "attrs = {}\n",
    "for k, v in old_attrs.items():\n",
    "    attrs[(k[0], k[1])] = v\n",
    "# rs == relationship\n",
    "for key, value in attrs.items():\n",
    "    attrs[key] = {\"rs\": replace_relate(value)}"
   ]
  },
  {
   "cell_type": "code",
   "execution_count": 20,
   "metadata": {},
   "outputs": [
    {
     "ename": "NodeNotFound",
     "evalue": "Either source Nitin_Saxena or target Peace_Prize_of_the_German_Book_Trade is not in G",
     "output_type": "error",
     "traceback": [
      "\u001b[1;31m---------------------------------------------------------------------------\u001b[0m",
      "\u001b[1;31mNodeNotFound\u001b[0m                              Traceback (most recent call last)",
      "\u001b[1;32md:\\part_time\\22_08\\subgraph\\subgraph\\test.ipynb Cell 8\u001b[0m in \u001b[0;36m<cell line: 2>\u001b[1;34m()\u001b[0m\n\u001b[0;32m      <a href='vscode-notebook-cell:/d%3A/part_time/22_08/subgraph/subgraph/test.ipynb#X10sZmlsZQ%3D%3D?line=0'>1</a>\u001b[0m max_num \u001b[39m=\u001b[39m \u001b[39m2\u001b[39m  \u001b[39m# 最多的子图数\u001b[39;00m\n\u001b[1;32m----> <a href='vscode-notebook-cell:/d%3A/part_time/22_08/subgraph/subgraph/test.ipynb#X10sZmlsZQ%3D%3D?line=1'>2</a>\u001b[0m centers \u001b[39m=\u001b[39m get_muticenter(G, [\u001b[39m'\u001b[39;49m\u001b[39mNitin_Saxena\u001b[39;49m\u001b[39m'\u001b[39;49m, \u001b[39m'\u001b[39;49m\u001b[39mPeace_Prize_of_the_German_Book_Trade\u001b[39;49m\u001b[39m'\u001b[39;49m], max_num)  \u001b[39m# 3个中心节点\u001b[39;00m\n\u001b[0;32m      <a href='vscode-notebook-cell:/d%3A/part_time/22_08/subgraph/subgraph/test.ipynb#X10sZmlsZQ%3D%3D?line=2'>3</a>\u001b[0m \u001b[39mfor\u001b[39;00m i \u001b[39min\u001b[39;00m \u001b[39mrange\u001b[39m(\u001b[39mlen\u001b[39m(centers)):\n\u001b[0;32m      <a href='vscode-notebook-cell:/d%3A/part_time/22_08/subgraph/subgraph/test.ipynb#X10sZmlsZQ%3D%3D?line=3'>4</a>\u001b[0m     res \u001b[39m=\u001b[39m breadFirstGraphExtract(G, centers[i], \u001b[39m'\u001b[39m\u001b[39m8\u001b[39m\u001b[39m'\u001b[39m, \u001b[39m5\u001b[39m, \u001b[39m5\u001b[39m)  \u001b[39m# 这里可以改成deapfirst， 5是最大深度，15是最大节点数\u001b[39;00m\n",
      "\u001b[1;32md:\\part_time\\22_08\\subgraph\\subgraph\\test.ipynb Cell 8\u001b[0m in \u001b[0;36mget_muticenter\u001b[1;34m(graph, centers, max_graph_num)\u001b[0m\n\u001b[0;32m    <a href='vscode-notebook-cell:/d%3A/part_time/22_08/subgraph/subgraph/test.ipynb#X10sZmlsZQ%3D%3D?line=167'>168</a>\u001b[0m new_routes \u001b[39m=\u001b[39m []\n\u001b[0;32m    <a href='vscode-notebook-cell:/d%3A/part_time/22_08/subgraph/subgraph/test.ipynb#X10sZmlsZQ%3D%3D?line=168'>169</a>\u001b[0m \u001b[39mfor\u001b[39;00m route \u001b[39min\u001b[39;00m routes:\n\u001b[1;32m--> <a href='vscode-notebook-cell:/d%3A/part_time/22_08/subgraph/subgraph/test.ipynb#X10sZmlsZQ%3D%3D?line=169'>170</a>\u001b[0m     \u001b[39mif\u001b[39;00m nx\u001b[39m.\u001b[39;49mhas_path(graph, centers[i], centers[j]):\n\u001b[0;32m    <a href='vscode-notebook-cell:/d%3A/part_time/22_08/subgraph/subgraph/test.ipynb#X10sZmlsZQ%3D%3D?line=170'>171</a>\u001b[0m         \u001b[39mfor\u001b[39;00m path \u001b[39min\u001b[39;00m nx\u001b[39m.\u001b[39mall_simple_edge_paths(graph, centers[i], centers[j]):\n\u001b[0;32m    <a href='vscode-notebook-cell:/d%3A/part_time/22_08/subgraph/subgraph/test.ipynb#X10sZmlsZQ%3D%3D?line=171'>172</a>\u001b[0m             new_routes\u001b[39m.\u001b[39mappend(route \u001b[39m+\u001b[39m path)\n",
      "File \u001b[1;32mc:\\Users\\56984\\AppData\\Local\\Programs\\Python\\Python39\\lib\\site-packages\\networkx\\algorithms\\shortest_paths\\generic.py:33\u001b[0m, in \u001b[0;36mhas_path\u001b[1;34m(G, source, target)\u001b[0m\n\u001b[0;32m     20\u001b[0m \u001b[39m\"\"\"Returns *True* if *G* has a path from *source* to *target*.\u001b[39;00m\n\u001b[0;32m     21\u001b[0m \n\u001b[0;32m     22\u001b[0m \u001b[39mParameters\u001b[39;00m\n\u001b[1;32m   (...)\u001b[0m\n\u001b[0;32m     30\u001b[0m \u001b[39m   Ending node for path\u001b[39;00m\n\u001b[0;32m     31\u001b[0m \u001b[39m\"\"\"\u001b[39;00m\n\u001b[0;32m     32\u001b[0m \u001b[39mtry\u001b[39;00m:\n\u001b[1;32m---> 33\u001b[0m     nx\u001b[39m.\u001b[39;49mshortest_path(G, source, target)\n\u001b[0;32m     34\u001b[0m \u001b[39mexcept\u001b[39;00m nx\u001b[39m.\u001b[39mNetworkXNoPath:\n\u001b[0;32m     35\u001b[0m     \u001b[39mreturn\u001b[39;00m \u001b[39mFalse\u001b[39;00m\n",
      "File \u001b[1;32mc:\\Users\\56984\\AppData\\Local\\Programs\\Python\\Python39\\lib\\site-packages\\networkx\\algorithms\\shortest_paths\\generic.py:165\u001b[0m, in \u001b[0;36mshortest_path\u001b[1;34m(G, source, target, weight, method)\u001b[0m\n\u001b[0;32m    162\u001b[0m \u001b[39melse\u001b[39;00m:\n\u001b[0;32m    163\u001b[0m     \u001b[39m# Find shortest source-target path.\u001b[39;00m\n\u001b[0;32m    164\u001b[0m     \u001b[39mif\u001b[39;00m method \u001b[39m==\u001b[39m \u001b[39m\"\u001b[39m\u001b[39munweighted\u001b[39m\u001b[39m\"\u001b[39m:\n\u001b[1;32m--> 165\u001b[0m         paths \u001b[39m=\u001b[39m nx\u001b[39m.\u001b[39;49mbidirectional_shortest_path(G, source, target)\n\u001b[0;32m    166\u001b[0m     \u001b[39melif\u001b[39;00m method \u001b[39m==\u001b[39m \u001b[39m\"\u001b[39m\u001b[39mdijkstra\u001b[39m\u001b[39m\"\u001b[39m:\n\u001b[0;32m    167\u001b[0m         _, paths \u001b[39m=\u001b[39m nx\u001b[39m.\u001b[39mbidirectional_dijkstra(G, source, target, weight)\n",
      "File \u001b[1;32mc:\\Users\\56984\\AppData\\Local\\Programs\\Python\\Python39\\lib\\site-packages\\networkx\\algorithms\\shortest_paths\\unweighted.py:221\u001b[0m, in \u001b[0;36mbidirectional_shortest_path\u001b[1;34m(G, source, target)\u001b[0m\n\u001b[0;32m    219\u001b[0m \u001b[39mif\u001b[39;00m source \u001b[39mnot\u001b[39;00m \u001b[39min\u001b[39;00m G \u001b[39mor\u001b[39;00m target \u001b[39mnot\u001b[39;00m \u001b[39min\u001b[39;00m G:\n\u001b[0;32m    220\u001b[0m     msg \u001b[39m=\u001b[39m \u001b[39mf\u001b[39m\u001b[39m\"\u001b[39m\u001b[39mEither source \u001b[39m\u001b[39m{\u001b[39;00msource\u001b[39m}\u001b[39;00m\u001b[39m or target \u001b[39m\u001b[39m{\u001b[39;00mtarget\u001b[39m}\u001b[39;00m\u001b[39m is not in G\u001b[39m\u001b[39m\"\u001b[39m\n\u001b[1;32m--> 221\u001b[0m     \u001b[39mraise\u001b[39;00m nx\u001b[39m.\u001b[39mNodeNotFound(msg)\n\u001b[0;32m    223\u001b[0m \u001b[39m# call helper to do the real work\u001b[39;00m\n\u001b[0;32m    224\u001b[0m results \u001b[39m=\u001b[39m _bidirectional_pred_succ(G, source, target)\n",
      "\u001b[1;31mNodeNotFound\u001b[0m: Either source Nitin_Saxena or target Peace_Prize_of_the_German_Book_Trade is not in G"
     ]
    }
   ],
   "source": [
    "max_num = 2  # 最多的子图数\n",
    "centers = get_muticenter(G, ['Nitin_Saxena', 'Peace_Prize_of_the_German_Book_Trade'], max_num)  # 3个中心节点\n",
    "for i in range(len(centers)):\n",
    "    res = breadFirstGraphExtract(G, centers[i], '8', 5, 5)  # 这里可以改成deapfirst， 5是最大深度，15是最大节点数\n",
    "    draw_sub(centers[i])\n",
    "    draw_sub(res)"
   ]
  }
 ],
 "metadata": {
  "kernelspec": {
   "display_name": "Python 3.9.5 64-bit",
   "language": "python",
   "name": "python3"
  },
  "language_info": {
   "codemirror_mode": {
    "name": "ipython",
    "version": 3
   },
   "file_extension": ".py",
   "mimetype": "text/x-python",
   "name": "python",
   "nbconvert_exporter": "python",
   "pygments_lexer": "ipython3",
   "version": "3.9.5"
  },
  "orig_nbformat": 4,
  "vscode": {
   "interpreter": {
    "hash": "ae1061b808f6cd6a9b371af4a82e28b415ca8727aeb0425431537dbb521f7a72"
   }
  }
 },
 "nbformat": 4,
 "nbformat_minor": 2
}
